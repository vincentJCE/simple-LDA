{
 "cells": [
  {
   "cell_type": "code",
   "execution_count": 94,
   "metadata": {},
   "outputs": [
    {
     "name": "stdout",
     "output_type": "stream",
     "text": [
      "[-0.56812958 -0.48149318]\n",
      "[-0.01865046 -0.05251722] [ 0.94938894  0.89741804]\n"
     ]
    }
   ],
   "source": [
    "import numpy as np\n",
    "import pandas as pd\n",
    "from numpy.linalg import inv\n",
    "\n",
    "df = pd.read_csv('d:\\LDA_DATA.csv')\n",
    "X = np.array(df.a)\n",
    "Y = np.array(df.b)\n",
    "Label = np.array(df.c)\n",
    "\n",
    "X1 = []\n",
    "Y1 = []\n",
    "Label1 = []\n",
    "\n",
    "X2 = []\n",
    "Y2 = []\n",
    "Label2 = []\n",
    "\n",
    "for i in range(len(X)):\n",
    "    if Label[i] == 0:\n",
    "        X1.append(X[i])\n",
    "        Y1.append(Y[i])\n",
    "        Label1.append(Label[i])\n",
    "    else:\n",
    "        X2.append(X[i])\n",
    "        Y2.append(Y[i])\n",
    "        Label2.append(Label[i])\n",
    "\n",
    "\n",
    "meanX1 = np.mean(X1) \n",
    "meanY1 = np.mean(Y1)\n",
    "meanX2 = np.mean(X2) \n",
    "meanY2 = np.mean(Y2)\n",
    "\n",
    "X1 = np.array((X1, Y1))\n",
    "X2 = np.array((X2, Y2))\n",
    "\n",
    "mean1 = np.array((meanX1, meanY1))\n",
    "mean2 = np.array((meanX2, meanY2))\n",
    "cov1 = np.cov(X1)\n",
    "cov2 = np.cov(X2)\n",
    "Sw = cov1 + cov2\n",
    "omega = np.dot(inv(Sw),(mean1 - mean2))\n",
    "print(omega)\n",
    "print(mean1,mean2)\n",
    "        \n"
   ]
  },
  {
   "cell_type": "code",
   "execution_count": null,
   "metadata": {
    "collapsed": true
   },
   "outputs": [],
   "source": []
  },
  {
   "cell_type": "code",
   "execution_count": 74,
   "metadata": {},
   "outputs": [],
   "source": [
    "Z1 = np.dot(omega, X1)\n",
    "Z2 = np.dot(omega, X2)\n",
    "meanZ1 = np.dot(omega, mean1)\n",
    "covZ1 = np.dot(np.dot(omega.T,cov1),omega)\n",
    "meanZ2 = np.dot(omega, mean2)\n",
    "covZ2 = np.dot(np.dot(omega.T,cov2),omega)"
   ]
  },
  {
   "cell_type": "code",
   "execution_count": 93,
   "metadata": {},
   "outputs": [
    {
     "name": "stdout",
     "output_type": "stream",
     "text": [
      "1\n",
      "0\n",
      "1\n",
      "0\n"
     ]
    }
   ],
   "source": [
    "test= np.array([[2,2],[-1,-1],[0.7,0.7],[0.1,0.1]])\n",
    "for i in range(4):\n",
    "    temp = np.dot(omega, test[i])\n",
    "    if abs(temp-meanZ1) < abs(temp-meanZ2):\n",
    "        print(0)\n",
    "    else:\n",
    "        print(1)"
   ]
  },
  {
   "cell_type": "code",
   "execution_count": null,
   "metadata": {
    "collapsed": true
   },
   "outputs": [],
   "source": []
  },
  {
   "cell_type": "code",
   "execution_count": null,
   "metadata": {
    "collapsed": true
   },
   "outputs": [],
   "source": []
  },
  {
   "cell_type": "code",
   "execution_count": null,
   "metadata": {
    "collapsed": true
   },
   "outputs": [],
   "source": []
  },
  {
   "cell_type": "code",
   "execution_count": 89,
   "metadata": {},
   "outputs": [
    {
     "data": {
      "text/plain": [
       "-0.97147660275798797"
      ]
     },
     "execution_count": 89,
     "metadata": {},
     "output_type": "execute_result"
    }
   ],
   "source": [
    "meanZ2"
   ]
  },
  {
   "cell_type": "code",
   "execution_count": 91,
   "metadata": {},
   "outputs": [
    {
     "data": {
      "text/plain": [
       "array([ -2.78230225e-01,   5.41508802e-01,  -7.46289192e-01,\n",
       "        -1.01864283e+00,  -1.06332604e-01,  -2.37452234e-01,\n",
       "         4.08191376e-02,   3.19302269e-01,   2.53666355e-01,\n",
       "         1.32506026e-01,  -1.50856752e+00,   1.16014272e+00,\n",
       "         1.16868177e+00,   3.49161306e-02,  -8.15369427e-01,\n",
       "        -5.20355550e-01,  -3.02759704e-01,   5.43696688e-01,\n",
       "         3.68475421e-01,  -8.35891361e-01,  -2.26222629e-02,\n",
       "        -1.49619663e+00,  -1.88441102e-02,   9.12908316e-01,\n",
       "         9.82367589e-01,  -5.61073859e-01,   3.41261282e-01,\n",
       "         1.67103934e+00,  -9.02730002e-01,  -6.43106518e-01,\n",
       "        -7.42463595e-01,   1.38008680e+00,  -2.11439170e-01,\n",
       "         5.23158610e-01,  -6.34370342e-01,   1.93659136e-01,\n",
       "         6.63079263e-01,  -1.09839403e+00,  -4.69805502e-01,\n",
       "         5.60474947e-01,  -6.23026606e-01,  -4.38208571e-03,\n",
       "        -8.72515357e-01,  -3.35111722e-01,   2.61028946e-01,\n",
       "         8.71263527e-03,  -2.37899528e-01,   5.01884332e-01,\n",
       "        -7.71703353e-02,   7.87848116e-01,  -3.68254922e-01,\n",
       "         2.49599890e-01,  -4.02695247e-01,  -2.70558087e-01,\n",
       "         2.68477450e-01,  -7.08215335e-01,  -1.83487915e-03,\n",
       "         3.81157878e-01,   4.48760029e-01,  -8.53005102e-01,\n",
       "         3.35139703e-01,  -4.19806070e-01,   2.83184732e-01,\n",
       "         7.18151266e-01,  -2.12391548e-02,   8.67161293e-01,\n",
       "         4.42011794e-01,  -4.85949499e-01,  -2.91327698e-01,\n",
       "         1.04161322e-02,   6.87856812e-01,   1.14025169e+00,\n",
       "        -4.20597991e-01,   1.39597057e-01,   7.62011459e-02,\n",
       "        -3.54737039e-01,   1.14684678e+00,   2.80723361e-01,\n",
       "         9.87306903e-01,  -4.38890458e-01,   2.10772445e-01,\n",
       "         5.06179209e-01,   4.38492787e-01,   2.63677536e-01,\n",
       "        -3.88631688e-01,   1.50248456e+00,  -3.97320621e-01,\n",
       "         1.62506593e-02,   4.70789257e-01,   1.10180298e+00,\n",
       "         1.59926121e-02,   3.93001955e-01,   1.39543210e+00,\n",
       "        -4.03510303e-01,  -5.81410588e-01,  -3.38971235e-01,\n",
       "        -4.29529497e-01,  -1.88854857e+00,   1.83868832e-01,\n",
       "         6.15187148e-02])"
      ]
     },
     "execution_count": 91,
     "metadata": {},
     "output_type": "execute_result"
    }
   ],
   "source": [
    "Z1"
   ]
  },
  {
   "cell_type": "code",
   "execution_count": null,
   "metadata": {
    "collapsed": true
   },
   "outputs": [],
   "source": []
  },
  {
   "cell_type": "code",
   "execution_count": null,
   "metadata": {
    "collapsed": true
   },
   "outputs": [],
   "source": []
  },
  {
   "cell_type": "code",
   "execution_count": null,
   "metadata": {
    "collapsed": true
   },
   "outputs": [],
   "source": []
  },
  {
   "cell_type": "code",
   "execution_count": null,
   "metadata": {
    "collapsed": true
   },
   "outputs": [],
   "source": []
  },
  {
   "cell_type": "code",
   "execution_count": null,
   "metadata": {
    "collapsed": true
   },
   "outputs": [],
   "source": []
  },
  {
   "cell_type": "code",
   "execution_count": null,
   "metadata": {
    "collapsed": true
   },
   "outputs": [],
   "source": []
  },
  {
   "cell_type": "code",
   "execution_count": null,
   "metadata": {
    "collapsed": true
   },
   "outputs": [],
   "source": []
  },
  {
   "cell_type": "code",
   "execution_count": null,
   "metadata": {
    "collapsed": true
   },
   "outputs": [],
   "source": []
  },
  {
   "cell_type": "code",
   "execution_count": null,
   "metadata": {
    "collapsed": true
   },
   "outputs": [],
   "source": []
  },
  {
   "cell_type": "code",
   "execution_count": null,
   "metadata": {
    "collapsed": true
   },
   "outputs": [],
   "source": []
  },
  {
   "cell_type": "code",
   "execution_count": null,
   "metadata": {
    "collapsed": true
   },
   "outputs": [],
   "source": []
  },
  {
   "cell_type": "code",
   "execution_count": null,
   "metadata": {
    "collapsed": true
   },
   "outputs": [],
   "source": []
  },
  {
   "cell_type": "code",
   "execution_count": null,
   "metadata": {
    "collapsed": true
   },
   "outputs": [],
   "source": []
  },
  {
   "cell_type": "code",
   "execution_count": null,
   "metadata": {
    "collapsed": true
   },
   "outputs": [],
   "source": []
  },
  {
   "cell_type": "code",
   "execution_count": 51,
   "metadata": {},
   "outputs": [
    {
     "data": {
      "text/plain": [
       "array([2, 2])"
      ]
     },
     "execution_count": 51,
     "metadata": {},
     "output_type": "execute_result"
    }
   ],
   "source": [
    "a"
   ]
  },
  {
   "cell_type": "code",
   "execution_count": null,
   "metadata": {
    "collapsed": true
   },
   "outputs": [],
   "source": []
  },
  {
   "cell_type": "code",
   "execution_count": null,
   "metadata": {
    "collapsed": true
   },
   "outputs": [],
   "source": []
  },
  {
   "cell_type": "code",
   "execution_count": null,
   "metadata": {
    "collapsed": true
   },
   "outputs": [],
   "source": []
  },
  {
   "cell_type": "code",
   "execution_count": null,
   "metadata": {
    "collapsed": true
   },
   "outputs": [],
   "source": []
  },
  {
   "cell_type": "code",
   "execution_count": null,
   "metadata": {
    "collapsed": true
   },
   "outputs": [],
   "source": []
  },
  {
   "cell_type": "code",
   "execution_count": 42,
   "metadata": {},
   "outputs": [
    {
     "data": {
      "text/plain": [
       "array([-0.96803939, -0.94993526])"
      ]
     },
     "execution_count": 42,
     "metadata": {},
     "output_type": "execute_result"
    }
   ],
   "source": [
    "mean1 - mean2"
   ]
  },
  {
   "cell_type": "code",
   "execution_count": null,
   "metadata": {
    "collapsed": true
   },
   "outputs": [],
   "source": []
  },
  {
   "cell_type": "code",
   "execution_count": null,
   "metadata": {
    "collapsed": true
   },
   "outputs": [],
   "source": []
  },
  {
   "cell_type": "code",
   "execution_count": 37,
   "metadata": {},
   "outputs": [
    {
     "data": {
      "text/plain": [
       "array([-0.01865046, -0.05251722])"
      ]
     },
     "execution_count": 37,
     "metadata": {},
     "output_type": "execute_result"
    }
   ],
   "source": [
    "mean1"
   ]
  },
  {
   "cell_type": "code",
   "execution_count": 38,
   "metadata": {},
   "outputs": [
    {
     "data": {
      "text/plain": [
       "array(0.9493889366876027)"
      ]
     },
     "execution_count": 38,
     "metadata": {},
     "output_type": "execute_result"
    }
   ],
   "source": [
    "mean2"
   ]
  },
  {
   "cell_type": "code",
   "execution_count": null,
   "metadata": {
    "collapsed": true
   },
   "outputs": [],
   "source": []
  },
  {
   "cell_type": "code",
   "execution_count": 35,
   "metadata": {},
   "outputs": [
    {
     "data": {
      "text/plain": [
       "array(0.9493889366876027)"
      ]
     },
     "execution_count": 35,
     "metadata": {},
     "output_type": "execute_result"
    }
   ],
   "source": [
    "mean2"
   ]
  },
  {
   "cell_type": "code",
   "execution_count": null,
   "metadata": {
    "collapsed": true
   },
   "outputs": [],
   "source": []
  },
  {
   "cell_type": "code",
   "execution_count": null,
   "metadata": {
    "collapsed": true
   },
   "outputs": [],
   "source": []
  },
  {
   "cell_type": "code",
   "execution_count": null,
   "metadata": {
    "collapsed": true
   },
   "outputs": [],
   "source": []
  },
  {
   "cell_type": "code",
   "execution_count": null,
   "metadata": {
    "collapsed": true
   },
   "outputs": [],
   "source": []
  },
  {
   "cell_type": "code",
   "execution_count": 30,
   "metadata": {},
   "outputs": [
    {
     "data": {
      "text/plain": [
       "100"
      ]
     },
     "execution_count": 30,
     "metadata": {},
     "output_type": "execute_result"
    }
   ],
   "source": [
    "len(Sw)"
   ]
  },
  {
   "cell_type": "code",
   "execution_count": null,
   "metadata": {
    "collapsed": true
   },
   "outputs": [],
   "source": []
  },
  {
   "cell_type": "code",
   "execution_count": 27,
   "metadata": {},
   "outputs": [
    {
     "data": {
      "text/plain": [
       "numpy.ndarray"
      ]
     },
     "execution_count": 27,
     "metadata": {},
     "output_type": "execute_result"
    }
   ],
   "source": [
    "type(Sw)"
   ]
  },
  {
   "cell_type": "code",
   "execution_count": 28,
   "metadata": {},
   "outputs": [
    {
     "data": {
      "text/plain": [
       "tuple"
      ]
     },
     "execution_count": 28,
     "metadata": {},
     "output_type": "execute_result"
    }
   ],
   "source": [
    "type(mean1)"
   ]
  },
  {
   "cell_type": "code",
   "execution_count": null,
   "metadata": {
    "collapsed": true
   },
   "outputs": [],
   "source": []
  },
  {
   "cell_type": "code",
   "execution_count": null,
   "metadata": {
    "collapsed": true
   },
   "outputs": [],
   "source": []
  },
  {
   "cell_type": "code",
   "execution_count": null,
   "metadata": {
    "collapsed": true
   },
   "outputs": [],
   "source": []
  },
  {
   "cell_type": "code",
   "execution_count": null,
   "metadata": {
    "collapsed": true
   },
   "outputs": [],
   "source": []
  },
  {
   "cell_type": "code",
   "execution_count": null,
   "metadata": {
    "collapsed": true
   },
   "outputs": [],
   "source": []
  },
  {
   "cell_type": "code",
   "execution_count": 21,
   "metadata": {},
   "outputs": [
    {
     "data": {
      "text/plain": [
       "100"
      ]
     },
     "execution_count": 21,
     "metadata": {},
     "output_type": "execute_result"
    }
   ],
   "source": [
    "len(cov1)"
   ]
  },
  {
   "cell_type": "code",
   "execution_count": null,
   "metadata": {
    "collapsed": true
   },
   "outputs": [],
   "source": []
  },
  {
   "cell_type": "code",
   "execution_count": null,
   "metadata": {
    "collapsed": true
   },
   "outputs": [],
   "source": []
  },
  {
   "cell_type": "code",
   "execution_count": null,
   "metadata": {
    "collapsed": true
   },
   "outputs": [],
   "source": []
  },
  {
   "cell_type": "code",
   "execution_count": 17,
   "metadata": {},
   "outputs": [
    {
     "data": {
      "text/plain": [
       "array([[ 0.81681741, -0.12861962],\n",
       "       [-0.12861962,  1.14240872]])"
      ]
     },
     "execution_count": 17,
     "metadata": {},
     "output_type": "execute_result"
    }
   ],
   "source": [
    "cov1"
   ]
  },
  {
   "cell_type": "code",
   "execution_count": null,
   "metadata": {
    "collapsed": true
   },
   "outputs": [],
   "source": []
  },
  {
   "cell_type": "code",
   "execution_count": null,
   "metadata": {
    "collapsed": true
   },
   "outputs": [],
   "source": []
  },
  {
   "cell_type": "code",
   "execution_count": 12,
   "metadata": {},
   "outputs": [
    {
     "data": {
      "text/plain": [
       "-0.018650455732600362"
      ]
     },
     "execution_count": 12,
     "metadata": {},
     "output_type": "execute_result"
    }
   ],
   "source": [
    "meanX1"
   ]
  },
  {
   "cell_type": "code",
   "execution_count": 13,
   "metadata": {},
   "outputs": [
    {
     "data": {
      "text/plain": [
       "-0.05251722046544683"
      ]
     },
     "execution_count": 13,
     "metadata": {},
     "output_type": "execute_result"
    }
   ],
   "source": [
    "meanY1"
   ]
  },
  {
   "cell_type": "code",
   "execution_count": 14,
   "metadata": {},
   "outputs": [
    {
     "data": {
      "text/plain": [
       "0.94938893668760271"
      ]
     },
     "execution_count": 14,
     "metadata": {},
     "output_type": "execute_result"
    }
   ],
   "source": [
    "meanX2"
   ]
  },
  {
   "cell_type": "code",
   "execution_count": null,
   "metadata": {
    "collapsed": true
   },
   "outputs": [],
   "source": []
  },
  {
   "cell_type": "code",
   "execution_count": null,
   "metadata": {
    "collapsed": true
   },
   "outputs": [],
   "source": []
  },
  {
   "cell_type": "code",
   "execution_count": null,
   "metadata": {
    "collapsed": true
   },
   "outputs": [],
   "source": []
  },
  {
   "cell_type": "code",
   "execution_count": 3,
   "metadata": {},
   "outputs": [
    {
     "data": {
      "text/html": [
       "<div>\n",
       "<style>\n",
       "    .dataframe thead tr:only-child th {\n",
       "        text-align: right;\n",
       "    }\n",
       "\n",
       "    .dataframe thead th {\n",
       "        text-align: left;\n",
       "    }\n",
       "\n",
       "    .dataframe tbody tr th {\n",
       "        vertical-align: top;\n",
       "    }\n",
       "</style>\n",
       "<table border=\"1\" class=\"dataframe\">\n",
       "  <thead>\n",
       "    <tr style=\"text-align: right;\">\n",
       "      <th></th>\n",
       "      <th>Unnamed: 0</th>\n",
       "      <th>a</th>\n",
       "      <th>b</th>\n",
       "      <th>c</th>\n",
       "    </tr>\n",
       "  </thead>\n",
       "  <tbody>\n",
       "    <tr>\n",
       "      <th>0</th>\n",
       "      <td>0</td>\n",
       "      <td>0.710755</td>\n",
       "      <td>0.703592</td>\n",
       "      <td>1.0</td>\n",
       "    </tr>\n",
       "    <tr>\n",
       "      <th>1</th>\n",
       "      <td>1</td>\n",
       "      <td>0.741145</td>\n",
       "      <td>0.608881</td>\n",
       "      <td>1.0</td>\n",
       "    </tr>\n",
       "    <tr>\n",
       "      <th>2</th>\n",
       "      <td>2</td>\n",
       "      <td>0.448397</td>\n",
       "      <td>2.507375</td>\n",
       "      <td>1.0</td>\n",
       "    </tr>\n",
       "    <tr>\n",
       "      <th>3</th>\n",
       "      <td>3</td>\n",
       "      <td>1.646613</td>\n",
       "      <td>-0.203023</td>\n",
       "      <td>1.0</td>\n",
       "    </tr>\n",
       "    <tr>\n",
       "      <th>4</th>\n",
       "      <td>4</td>\n",
       "      <td>0.769372</td>\n",
       "      <td>0.292938</td>\n",
       "      <td>1.0</td>\n",
       "    </tr>\n",
       "    <tr>\n",
       "      <th>5</th>\n",
       "      <td>5</td>\n",
       "      <td>1.342800</td>\n",
       "      <td>1.674659</td>\n",
       "      <td>1.0</td>\n",
       "    </tr>\n",
       "    <tr>\n",
       "      <th>6</th>\n",
       "      <td>6</td>\n",
       "      <td>1.817795</td>\n",
       "      <td>0.984596</td>\n",
       "      <td>1.0</td>\n",
       "    </tr>\n",
       "    <tr>\n",
       "      <th>7</th>\n",
       "      <td>7</td>\n",
       "      <td>1.135224</td>\n",
       "      <td>1.223046</td>\n",
       "      <td>1.0</td>\n",
       "    </tr>\n",
       "    <tr>\n",
       "      <th>8</th>\n",
       "      <td>8</td>\n",
       "      <td>1.310239</td>\n",
       "      <td>2.695424</td>\n",
       "      <td>1.0</td>\n",
       "    </tr>\n",
       "    <tr>\n",
       "      <th>9</th>\n",
       "      <td>9</td>\n",
       "      <td>0.559606</td>\n",
       "      <td>0.153649</td>\n",
       "      <td>1.0</td>\n",
       "    </tr>\n",
       "    <tr>\n",
       "      <th>10</th>\n",
       "      <td>10</td>\n",
       "      <td>1.639750</td>\n",
       "      <td>1.155792</td>\n",
       "      <td>1.0</td>\n",
       "    </tr>\n",
       "    <tr>\n",
       "      <th>11</th>\n",
       "      <td>11</td>\n",
       "      <td>0.149692</td>\n",
       "      <td>-0.133664</td>\n",
       "      <td>1.0</td>\n",
       "    </tr>\n",
       "    <tr>\n",
       "      <th>12</th>\n",
       "      <td>12</td>\n",
       "      <td>2.918324</td>\n",
       "      <td>1.449339</td>\n",
       "      <td>1.0</td>\n",
       "    </tr>\n",
       "    <tr>\n",
       "      <th>13</th>\n",
       "      <td>13</td>\n",
       "      <td>-0.313521</td>\n",
       "      <td>1.136270</td>\n",
       "      <td>1.0</td>\n",
       "    </tr>\n",
       "    <tr>\n",
       "      <th>14</th>\n",
       "      <td>14</td>\n",
       "      <td>1.925272</td>\n",
       "      <td>0.200536</td>\n",
       "      <td>1.0</td>\n",
       "    </tr>\n",
       "    <tr>\n",
       "      <th>15</th>\n",
       "      <td>15</td>\n",
       "      <td>0.854025</td>\n",
       "      <td>1.097048</td>\n",
       "      <td>1.0</td>\n",
       "    </tr>\n",
       "    <tr>\n",
       "      <th>16</th>\n",
       "      <td>16</td>\n",
       "      <td>2.216243</td>\n",
       "      <td>0.306707</td>\n",
       "      <td>1.0</td>\n",
       "    </tr>\n",
       "    <tr>\n",
       "      <th>17</th>\n",
       "      <td>17</td>\n",
       "      <td>0.685965</td>\n",
       "      <td>0.522559</td>\n",
       "      <td>1.0</td>\n",
       "    </tr>\n",
       "    <tr>\n",
       "      <th>18</th>\n",
       "      <td>18</td>\n",
       "      <td>-0.761272</td>\n",
       "      <td>2.748840</td>\n",
       "      <td>1.0</td>\n",
       "    </tr>\n",
       "    <tr>\n",
       "      <th>19</th>\n",
       "      <td>19</td>\n",
       "      <td>1.290842</td>\n",
       "      <td>1.215328</td>\n",
       "      <td>1.0</td>\n",
       "    </tr>\n",
       "    <tr>\n",
       "      <th>20</th>\n",
       "      <td>20</td>\n",
       "      <td>2.252073</td>\n",
       "      <td>0.782203</td>\n",
       "      <td>1.0</td>\n",
       "    </tr>\n",
       "    <tr>\n",
       "      <th>21</th>\n",
       "      <td>21</td>\n",
       "      <td>0.429275</td>\n",
       "      <td>2.294307</td>\n",
       "      <td>1.0</td>\n",
       "    </tr>\n",
       "    <tr>\n",
       "      <th>22</th>\n",
       "      <td>22</td>\n",
       "      <td>0.565632</td>\n",
       "      <td>-0.189620</td>\n",
       "      <td>1.0</td>\n",
       "    </tr>\n",
       "    <tr>\n",
       "      <th>23</th>\n",
       "      <td>23</td>\n",
       "      <td>-1.021439</td>\n",
       "      <td>1.378304</td>\n",
       "      <td>1.0</td>\n",
       "    </tr>\n",
       "    <tr>\n",
       "      <th>24</th>\n",
       "      <td>24</td>\n",
       "      <td>2.029887</td>\n",
       "      <td>0.216930</td>\n",
       "      <td>1.0</td>\n",
       "    </tr>\n",
       "    <tr>\n",
       "      <th>25</th>\n",
       "      <td>25</td>\n",
       "      <td>0.776063</td>\n",
       "      <td>0.843511</td>\n",
       "      <td>1.0</td>\n",
       "    </tr>\n",
       "    <tr>\n",
       "      <th>26</th>\n",
       "      <td>26</td>\n",
       "      <td>0.120966</td>\n",
       "      <td>1.520581</td>\n",
       "      <td>1.0</td>\n",
       "    </tr>\n",
       "    <tr>\n",
       "      <th>27</th>\n",
       "      <td>27</td>\n",
       "      <td>3.278811</td>\n",
       "      <td>1.430012</td>\n",
       "      <td>1.0</td>\n",
       "    </tr>\n",
       "    <tr>\n",
       "      <th>28</th>\n",
       "      <td>28</td>\n",
       "      <td>2.297954</td>\n",
       "      <td>0.057475</td>\n",
       "      <td>1.0</td>\n",
       "    </tr>\n",
       "    <tr>\n",
       "      <th>29</th>\n",
       "      <td>29</td>\n",
       "      <td>0.982962</td>\n",
       "      <td>1.521607</td>\n",
       "      <td>1.0</td>\n",
       "    </tr>\n",
       "    <tr>\n",
       "      <th>...</th>\n",
       "      <td>...</td>\n",
       "      <td>...</td>\n",
       "      <td>...</td>\n",
       "      <td>...</td>\n",
       "    </tr>\n",
       "    <tr>\n",
       "      <th>170</th>\n",
       "      <td>170</td>\n",
       "      <td>-0.239032</td>\n",
       "      <td>-1.146550</td>\n",
       "      <td>0.0</td>\n",
       "    </tr>\n",
       "    <tr>\n",
       "      <th>171</th>\n",
       "      <td>171</td>\n",
       "      <td>-1.407072</td>\n",
       "      <td>-0.707907</td>\n",
       "      <td>0.0</td>\n",
       "    </tr>\n",
       "    <tr>\n",
       "      <th>172</th>\n",
       "      <td>172</td>\n",
       "      <td>0.315589</td>\n",
       "      <td>0.501155</td>\n",
       "      <td>0.0</td>\n",
       "    </tr>\n",
       "    <tr>\n",
       "      <th>173</th>\n",
       "      <td>173</td>\n",
       "      <td>-0.729675</td>\n",
       "      <td>0.571042</td>\n",
       "      <td>0.0</td>\n",
       "    </tr>\n",
       "    <tr>\n",
       "      <th>174</th>\n",
       "      <td>174</td>\n",
       "      <td>0.321347</td>\n",
       "      <td>-0.537428</td>\n",
       "      <td>0.0</td>\n",
       "    </tr>\n",
       "    <tr>\n",
       "      <th>175</th>\n",
       "      <td>175</td>\n",
       "      <td>0.855223</td>\n",
       "      <td>-0.272362</td>\n",
       "      <td>0.0</td>\n",
       "    </tr>\n",
       "    <tr>\n",
       "      <th>176</th>\n",
       "      <td>176</td>\n",
       "      <td>-0.980416</td>\n",
       "      <td>-1.225030</td>\n",
       "      <td>0.0</td>\n",
       "    </tr>\n",
       "    <tr>\n",
       "      <th>177</th>\n",
       "      <td>177</td>\n",
       "      <td>1.027338</td>\n",
       "      <td>-1.795216</td>\n",
       "      <td>0.0</td>\n",
       "    </tr>\n",
       "    <tr>\n",
       "      <th>178</th>\n",
       "      <td>178</td>\n",
       "      <td>-1.067159</td>\n",
       "      <td>-0.791335</td>\n",
       "      <td>0.0</td>\n",
       "    </tr>\n",
       "    <tr>\n",
       "      <th>179</th>\n",
       "      <td>179</td>\n",
       "      <td>0.330572</td>\n",
       "      <td>0.521467</td>\n",
       "      <td>0.0</td>\n",
       "    </tr>\n",
       "    <tr>\n",
       "      <th>180</th>\n",
       "      <td>180</td>\n",
       "      <td>0.607037</td>\n",
       "      <td>-1.154011</td>\n",
       "      <td>0.0</td>\n",
       "    </tr>\n",
       "    <tr>\n",
       "      <th>181</th>\n",
       "      <td>181</td>\n",
       "      <td>-0.023610</td>\n",
       "      <td>-1.023411</td>\n",
       "      <td>0.0</td>\n",
       "    </tr>\n",
       "    <tr>\n",
       "      <th>182</th>\n",
       "      <td>182</td>\n",
       "      <td>-0.116055</td>\n",
       "      <td>-0.773757</td>\n",
       "      <td>0.0</td>\n",
       "    </tr>\n",
       "    <tr>\n",
       "      <th>183</th>\n",
       "      <td>183</td>\n",
       "      <td>0.544498</td>\n",
       "      <td>-1.190096</td>\n",
       "      <td>0.0</td>\n",
       "    </tr>\n",
       "    <tr>\n",
       "      <th>184</th>\n",
       "      <td>184</td>\n",
       "      <td>1.089538</td>\n",
       "      <td>-0.478444</td>\n",
       "      <td>0.0</td>\n",
       "    </tr>\n",
       "    <tr>\n",
       "      <th>185</th>\n",
       "      <td>185</td>\n",
       "      <td>-1.601040</td>\n",
       "      <td>-1.231350</td>\n",
       "      <td>0.0</td>\n",
       "    </tr>\n",
       "    <tr>\n",
       "      <th>186</th>\n",
       "      <td>186</td>\n",
       "      <td>0.342282</td>\n",
       "      <td>0.421315</td>\n",
       "      <td>0.0</td>\n",
       "    </tr>\n",
       "    <tr>\n",
       "      <th>187</th>\n",
       "      <td>187</td>\n",
       "      <td>0.551537</td>\n",
       "      <td>-0.684527</td>\n",
       "      <td>0.0</td>\n",
       "    </tr>\n",
       "    <tr>\n",
       "      <th>188</th>\n",
       "      <td>188</td>\n",
       "      <td>-0.151881</td>\n",
       "      <td>-0.798560</td>\n",
       "      <td>0.0</td>\n",
       "    </tr>\n",
       "    <tr>\n",
       "      <th>189</th>\n",
       "      <td>189</td>\n",
       "      <td>-1.081884</td>\n",
       "      <td>-1.011754</td>\n",
       "      <td>0.0</td>\n",
       "    </tr>\n",
       "    <tr>\n",
       "      <th>190</th>\n",
       "      <td>190</td>\n",
       "      <td>-0.368171</td>\n",
       "      <td>0.401203</td>\n",
       "      <td>0.0</td>\n",
       "    </tr>\n",
       "    <tr>\n",
       "      <th>191</th>\n",
       "      <td>191</td>\n",
       "      <td>-1.481567</td>\n",
       "      <td>0.931934</td>\n",
       "      <td>0.0</td>\n",
       "    </tr>\n",
       "    <tr>\n",
       "      <th>192</th>\n",
       "      <td>192</td>\n",
       "      <td>-0.833915</td>\n",
       "      <td>-1.914171</td>\n",
       "      <td>0.0</td>\n",
       "    </tr>\n",
       "    <tr>\n",
       "      <th>193</th>\n",
       "      <td>193</td>\n",
       "      <td>-0.105558</td>\n",
       "      <td>0.962591</td>\n",
       "      <td>0.0</td>\n",
       "    </tr>\n",
       "    <tr>\n",
       "      <th>194</th>\n",
       "      <td>194</td>\n",
       "      <td>0.959689</td>\n",
       "      <td>0.075147</td>\n",
       "      <td>0.0</td>\n",
       "    </tr>\n",
       "    <tr>\n",
       "      <th>195</th>\n",
       "      <td>195</td>\n",
       "      <td>1.189340</td>\n",
       "      <td>-0.699341</td>\n",
       "      <td>0.0</td>\n",
       "    </tr>\n",
       "    <tr>\n",
       "      <th>196</th>\n",
       "      <td>196</td>\n",
       "      <td>1.344662</td>\n",
       "      <td>-0.694533</td>\n",
       "      <td>0.0</td>\n",
       "    </tr>\n",
       "    <tr>\n",
       "      <th>197</th>\n",
       "      <td>197</td>\n",
       "      <td>0.670322</td>\n",
       "      <td>3.131340</td>\n",
       "      <td>0.0</td>\n",
       "    </tr>\n",
       "    <tr>\n",
       "      <th>198</th>\n",
       "      <td>198</td>\n",
       "      <td>-1.195157</td>\n",
       "      <td>1.028332</td>\n",
       "      <td>0.0</td>\n",
       "    </tr>\n",
       "    <tr>\n",
       "      <th>199</th>\n",
       "      <td>199</td>\n",
       "      <td>0.549311</td>\n",
       "      <td>-0.775916</td>\n",
       "      <td>0.0</td>\n",
       "    </tr>\n",
       "  </tbody>\n",
       "</table>\n",
       "<p>200 rows × 4 columns</p>\n",
       "</div>"
      ],
      "text/plain": [
       "     Unnamed: 0         a         b    c\n",
       "0             0  0.710755  0.703592  1.0\n",
       "1             1  0.741145  0.608881  1.0\n",
       "2             2  0.448397  2.507375  1.0\n",
       "3             3  1.646613 -0.203023  1.0\n",
       "4             4  0.769372  0.292938  1.0\n",
       "5             5  1.342800  1.674659  1.0\n",
       "6             6  1.817795  0.984596  1.0\n",
       "7             7  1.135224  1.223046  1.0\n",
       "8             8  1.310239  2.695424  1.0\n",
       "9             9  0.559606  0.153649  1.0\n",
       "10           10  1.639750  1.155792  1.0\n",
       "11           11  0.149692 -0.133664  1.0\n",
       "12           12  2.918324  1.449339  1.0\n",
       "13           13 -0.313521  1.136270  1.0\n",
       "14           14  1.925272  0.200536  1.0\n",
       "15           15  0.854025  1.097048  1.0\n",
       "16           16  2.216243  0.306707  1.0\n",
       "17           17  0.685965  0.522559  1.0\n",
       "18           18 -0.761272  2.748840  1.0\n",
       "19           19  1.290842  1.215328  1.0\n",
       "20           20  2.252073  0.782203  1.0\n",
       "21           21  0.429275  2.294307  1.0\n",
       "22           22  0.565632 -0.189620  1.0\n",
       "23           23 -1.021439  1.378304  1.0\n",
       "24           24  2.029887  0.216930  1.0\n",
       "25           25  0.776063  0.843511  1.0\n",
       "26           26  0.120966  1.520581  1.0\n",
       "27           27  3.278811  1.430012  1.0\n",
       "28           28  2.297954  0.057475  1.0\n",
       "29           29  0.982962  1.521607  1.0\n",
       "..          ...       ...       ...  ...\n",
       "170         170 -0.239032 -1.146550  0.0\n",
       "171         171 -1.407072 -0.707907  0.0\n",
       "172         172  0.315589  0.501155  0.0\n",
       "173         173 -0.729675  0.571042  0.0\n",
       "174         174  0.321347 -0.537428  0.0\n",
       "175         175  0.855223 -0.272362  0.0\n",
       "176         176 -0.980416 -1.225030  0.0\n",
       "177         177  1.027338 -1.795216  0.0\n",
       "178         178 -1.067159 -0.791335  0.0\n",
       "179         179  0.330572  0.521467  0.0\n",
       "180         180  0.607037 -1.154011  0.0\n",
       "181         181 -0.023610 -1.023411  0.0\n",
       "182         182 -0.116055 -0.773757  0.0\n",
       "183         183  0.544498 -1.190096  0.0\n",
       "184         184  1.089538 -0.478444  0.0\n",
       "185         185 -1.601040 -1.231350  0.0\n",
       "186         186  0.342282  0.421315  0.0\n",
       "187         187  0.551537 -0.684527  0.0\n",
       "188         188 -0.151881 -0.798560  0.0\n",
       "189         189 -1.081884 -1.011754  0.0\n",
       "190         190 -0.368171  0.401203  0.0\n",
       "191         191 -1.481567  0.931934  0.0\n",
       "192         192 -0.833915 -1.914171  0.0\n",
       "193         193 -0.105558  0.962591  0.0\n",
       "194         194  0.959689  0.075147  0.0\n",
       "195         195  1.189340 -0.699341  0.0\n",
       "196         196  1.344662 -0.694533  0.0\n",
       "197         197  0.670322  3.131340  0.0\n",
       "198         198 -1.195157  1.028332  0.0\n",
       "199         199  0.549311 -0.775916  0.0\n",
       "\n",
       "[200 rows x 4 columns]"
      ]
     },
     "execution_count": 3,
     "metadata": {},
     "output_type": "execute_result"
    }
   ],
   "source": [
    "df"
   ]
  },
  {
   "cell_type": "code",
   "execution_count": null,
   "metadata": {
    "collapsed": true
   },
   "outputs": [],
   "source": []
  }
 ],
 "metadata": {
  "kernelspec": {
   "display_name": "Python 3",
   "language": "python",
   "name": "python3"
  },
  "language_info": {
   "codemirror_mode": {
    "name": "ipython",
    "version": 3
   },
   "file_extension": ".py",
   "mimetype": "text/x-python",
   "name": "python",
   "nbconvert_exporter": "python",
   "pygments_lexer": "ipython3",
   "version": "3.6.2"
  }
 },
 "nbformat": 4,
 "nbformat_minor": 2
}
